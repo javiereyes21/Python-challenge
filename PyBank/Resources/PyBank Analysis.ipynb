{
 "cells": [
  {
   "cell_type": "code",
   "execution_count": null,
   "id": "827f5bee-0b17-4de3-b620-9222766cde5c",
   "metadata": {},
   "outputs": [],
   "source": [
    "import pandas as pd\n",
    "import os\n",
    "import csv"
   ]
  },
  {
   "cell_type": "code",
   "execution_count": null,
   "id": "66b6ecea-2894-4920-8509-6b41e94ef840",
   "metadata": {},
   "outputs": [],
   "source": [
    "with open(budget_data.csv) as analysis:\n",
    "\n",
    "    budget= csv.reader(analysis)\n",
    "    print (budget)\n",
    "\n",
    "csv_header = next(analysis)\n",
    "print (csv_header)\n",
    "\n",
    "for row in analysis:\n",
    "    print(len[row]0)\n"
   ]
  }
 ],
 "metadata": {
  "kernelspec": {
   "display_name": "Python 3 (ipykernel)",
   "language": "python",
   "name": "python3"
  },
  "language_info": {
   "codemirror_mode": {
    "name": "ipython",
    "version": 3
   },
   "file_extension": ".py",
   "mimetype": "text/x-python",
   "name": "python",
   "nbconvert_exporter": "python",
   "pygments_lexer": "ipython3",
   "version": "3.10.14"
  }
 },
 "nbformat": 4,
 "nbformat_minor": 5
}
