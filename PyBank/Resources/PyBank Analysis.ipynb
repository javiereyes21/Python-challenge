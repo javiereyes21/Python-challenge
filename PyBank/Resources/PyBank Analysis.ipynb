{
 "cells": [
  {
   "cell_type": "code",
   "execution_count": null,
   "id": "827f5bee-0b17-4de3-b620-9222766cde5c",
   "metadata": {},
   "outputs": [],
   "source": [
    "import os\n",
    "import csv"
   ]
  },
  {
   "cell_type": "code",
   "execution_count": null,
   "id": "66b6ecea-2894-4920-8509-6b41e94ef840",
   "metadata": {},
   "outputs": [],
   "source": [
    "#Variables\n",
    "total_months= 0\n",
    "total= 0\n",
    "previous_profit_loss= 0\n",
    "profit_changes= []\n",
    "greatest_increase = [\"\", 0]\n",
    "greatest_decrease = [\"\", 0]\n",
    "\n",
    "\n",
    "with open(\"..\",\"Resources\",\"budget_data\",'r') as analysis:\n",
    "\n",
    "    Financial_Analysis= csv.reader(analysis, delimeter=\",\")\n",
    "    print (Financial_Analysis)\n",
    "\n",
    "    next(Financial_Analysis)\n",
    "\n",
    "    \n",
    "\n",
    "    for row in Financial_Analysis: \n",
    "        # row = [Jan-10,1088983]\n",
    "        total_months += 1\n",
    "        total+= int(row[1])\n",
    "\n",
    "        #change in profit/loss\n",
    "        profit_change= int(row[1]) - previous_profit_loss\n",
    "        if previous_profit_loss != 0:\n",
    "            profit_changes.append(profit_change)\n",
    "\n",
    "        previous_profit_loss = int(row[1])\n",
    "\n",
    "        #Greatest Increase\n",
    "\n",
    "        \n",
    "        print=(\"Financial Analysis\")\n",
    "        print(\"-----------------------\")\n",
    "        print(\"Total Months: \", int(total_months))\n",
    "        print(total)\n",
    "\n",
    "\n",
    "\n"
   ]
  }
 ],
 "metadata": {
  "kernelspec": {
   "display_name": "Python 3 (ipykernel)",
   "language": "python",
   "name": "python3"
  },
  "language_info": {
   "codemirror_mode": {
    "name": "ipython",
    "version": 3
   },
   "file_extension": ".py",
   "mimetype": "text/x-python",
   "name": "python",
   "nbconvert_exporter": "python",
   "pygments_lexer": "ipython3",
   "version": "3.10.14"
  }
 },
 "nbformat": 4,
 "nbformat_minor": 5
}
